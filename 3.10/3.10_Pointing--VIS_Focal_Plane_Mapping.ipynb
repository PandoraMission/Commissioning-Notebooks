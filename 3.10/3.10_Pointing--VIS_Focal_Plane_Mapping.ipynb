{
 "cells": [
  {
   "cell_type": "raw",
   "id": "edb2ab2f",
   "metadata": {},
   "source": [
    "OVERVIEW: Observe multiple stars with moderate brightness in the same VIS FOV to determine the mapping between the sky and the detector. \n",
    "\n",
    "\n",
    "DATA PRODUCTS: \n",
    "    RD-B2: Generate a table that provides the mapping between the sky and detector positions to quantify field distortions \n",
    "    \n",
    "    RD-B3: Generate a table that provides the mapping between the sky and detector positions to quantify boresight alignment\n",
    "\n",
    "\n",
    "EXIT CRITERIA: observation obtained, analysis complete and summarized in 3.10_ResultsSummary.md\n",
    "\n",
    "\n",
    "DATA: full VIS FOV, 2048x2048, one observation\n",
    "\n",
    "\n",
    "TARGET CRITERIA: observe at least 18 well distributed stars without overlapping pixels. Stars should be moderately bright with Pandora Visible Mag 8-9 (approx Gaia B Mag). This magnitude criteria is flexible -- our science target list is selected for Jmag=7-11.5 and Hmag<11.\n",
    "\n",
    "\n",
    "KEY STAKEHOLDERS: Christina Hedges"
   ]
  },
  {
   "cell_type": "markdown",
   "id": "d554d824",
   "metadata": {},
   "source": [
    "### Load In"
   ]
  },
  {
   "cell_type": "code",
   "execution_count": 1,
   "id": "a5daaf04",
   "metadata": {},
   "outputs": [
    {
     "name": "stderr",
     "output_type": "stream",
     "text": [
      "/Users/lindseywiser/anaconda3/lib/python3.11/site-packages/pandas/core/arrays/masked.py:60: UserWarning: Pandas requires version '1.3.6' or newer of 'bottleneck' (version '1.3.5' currently installed).\n",
      "  from pandas.core import (\n"
     ]
    }
   ],
   "source": [
    "''' Make sure you have pandorasim installed and updated '''\n",
    "\n",
    "import pandorasat as ps\n",
    "import pandorasim as pp\n",
    "ps.utils.get_phoenix_model(teff=7000, jmag=10) #this is a temporary fix to an import error with pandorasim\n",
    "from pandorasim import VisibleSim, NIRSim\n",
    "import astropy.units as u\n",
    "import matplotlib.pyplot as plt\n",
    "import numpy as np\n",
    "from astropy.coordinates import SkyCoord\n",
    "from astropy.io import fits\n",
    "from pandorasat.plotting import animate\n",
    "from pandorasat.plotting import save_mp4, save_gif\n",
    "from astropy.time import Time, TimeDelta\n",
    "\n",
    "### Importing additional functions and constants used in this notebook\n",
    "import sys, os\n",
    "sys.path.append(os.path.abspath('..'))\n",
    "from CommissFunctions import generate_task_plan\n",
    "from CommissFunctions import data_rate, bits_per_pix_VIS, compression_fractor_VIS, frame_time_VIS, stored_frames_per_int_VIS, pass_time_min\n"
   ]
  },
  {
   "cell_type": "code",
   "execution_count": null,
   "id": "78a69c5c",
   "metadata": {},
   "outputs": [],
   "source": [
    "''' Define a PandoraSat object for calling constants '''\n",
    "p = ps.PandoraSat()"
   ]
  },
  {
   "cell_type": "markdown",
   "id": "f3f99dc2",
   "metadata": {},
   "source": [
    "# Data Volume"
   ]
  },
  {
   "cell_type": "markdown",
   "id": "dd777000",
   "metadata": {},
   "source": [
    "Estimate data volume based on obseravtion parameters and estimated rates and sizes."
   ]
  },
  {
   "cell_type": "code",
   "execution_count": null,
   "id": "a9134b21",
   "metadata": {},
   "outputs": [],
   "source": [
    "''' this sets observing parameters for activity '''\n",
    "VIS_xpix              = p.VISDA.shape[0] ### We collect the full VIS FOV for this task\n",
    "VIS_ypix              = p.VISDA.shape[1]\n",
    "regions               = 1\n",
    "frames_per_int        = 1\n",
    "num_int               = 200\n",
    "\n",
    "''' Calculating data volumes '''\n",
    "int_and_reset_time    = frame_time_VIS * frames_per_int\n",
    "bits_per_int          = VIS_xpix * VIS_ypix * regions * bits_per_pix_VIS * stored_frames_per_int_VIS\n",
    "bits_per_sec          = bits_per_int / int_and_reset_time\n",
    "test_time             = num_int * int_and_reset_time\n",
    "bits_per_sec_comp     = bits_per_sec / compression_fractor_VIS\n",
    "bits_test_total       = bits_per_sec_comp * test_time\n",
    "Gbits_test_packet     = bits_test_total / 1E9 * 1.1 * 1.25\n",
    "downlinks             = Gbits_test_packet * 1E9 /(data_rate * 1E6) /pass_time_min /60\n",
    "\n",
    "print('test time:', test_time, 'seconds')\n",
    "print(Gbits_test_packet, 'Gbits')\n",
    "print(downlinks, 'downlinks')"
   ]
  },
  {
   "cell_type": "markdown",
   "id": "b96a5807",
   "metadata": {},
   "source": [
    "# Define Targets"
   ]
  },
  {
   "cell_type": "markdown",
   "id": "f125fb74",
   "metadata": {},
   "source": [
    "For now, we select an arbitrary primary target to place at the center of the frame. The target selection process is being developed (check with Aisha Iyer or Lindsey Wiser).  "
   ]
  },
  {
   "cell_type": "code",
   "execution_count": null,
   "id": "dc147bbc",
   "metadata": {},
   "outputs": [],
   "source": [
    "### Posible Targets:\n",
    "# ...\n",
    "# ...\n",
    "# ...\n",
    "# ..."
   ]
  },
  {
   "cell_type": "code",
   "execution_count": null,
   "id": "0e023081",
   "metadata": {},
   "outputs": [],
   "source": [
    "''' Finds target coordinates based on astropy '''\n",
    "### You can do this differently as long as you have DEC and RA\n",
    "target = \"GJ 3470\"\n",
    "c = SkyCoord.from_name(target)\n",
    "\n",
    "\n",
    "''' Identify the start time and end time of the observation '''\n",
    "start_time = Time.now() \n",
    "time_delta = TimeDelta(test_time, format='sec')\n",
    "end_time = start_time + time_delta\n",
    "\n",
    "\n",
    "''' Initialize a simulator object '''\n",
    "sim = VisibleSim(ROI_size=(VIS_xpix, VIS_ypix), nROIs=regions) \n",
    "\n",
    "\n",
    "''' Point the simulator at the above target '''\n",
    "###        RA,   DEC,    Theta \n",
    "sim.point(c.ra, c.dec, 0*u.deg)"
   ]
  },
  {
   "cell_type": "code",
   "execution_count": null,
   "id": "f193f2d8",
   "metadata": {},
   "outputs": [],
   "source": [
    "''' sim has various attributes you can print out '''\n",
    "#print(sim.ra, sim.dec, sim.wcs)\n",
    "\n",
    "''' Notably we have a Catalog of objects visable in the VIS FOV '''\n",
    "cat = sim.source_catalog\n",
    "#print(cat)"
   ]
  },
  {
   "cell_type": "markdown",
   "id": "5e370ad1",
   "metadata": {},
   "source": [
    "# Observation"
   ]
  },
  {
   "cell_type": "code",
   "execution_count": null,
   "id": "01c46fc2",
   "metadata": {},
   "outputs": [],
   "source": [
    "''' Plot the Full Frame Image.'''\n",
    "sim.show_FFI()"
   ]
  },
  {
   "cell_type": "code",
   "execution_count": null,
   "id": "42f1135e",
   "metadata": {},
   "outputs": [],
   "source": [
    "''' Create an Observation. '''\n",
    "\n",
    "### This returns an astropy.io.fits.HDUList array. \n",
    "# `nreads` sets how many reads of the detector are coadded together to create a frame.\n",
    "# `bin_frames` is a shortcut parameter to speed up computation. Must be a factor of nreads. We can ignore this for low nreads. \n",
    "# `nframes` sets how many frames will be returned.\n",
    "# `start_time` indicates the time of observation. \n",
    "# `output_type` is set to array, for now. This make it easy to call in the notebook, but we'll save it as a fits file later. \n",
    "###\n",
    "\n",
    "data = sim.observe(nreads=frames_per_int, bin_frames=1, nframes=num_int, start_time=start_time, output_type=\"array\")\n",
    "\n",
    "### The shape is: (num ROIs, num frames, nrows, ncolumns)\n",
    "data.shape"
   ]
  },
  {
   "cell_type": "code",
   "execution_count": null,
   "id": "fc99b7eb",
   "metadata": {},
   "outputs": [],
   "source": [
    "'''Animate over the integrations'''\n",
    "### This is working, but since it is a full frame image object are very small and faint.\n",
    "#animate(data[0])\n",
    "\n",
    "### You can save this\n",
    "#save_mp4(data[0], \"output.mp4\")\n",
    "#save_gif(data[0], \"output.gif\")"
   ]
  },
  {
   "cell_type": "markdown",
   "id": "a1c79a28",
   "metadata": {},
   "source": [
    "# Save the simulated observation"
   ]
  },
  {
   "cell_type": "code",
   "execution_count": null,
   "id": "f3f3d47f",
   "metadata": {},
   "outputs": [],
   "source": [
    "''' Re-Create the observation in the correct format for the .fits file (i.e., output_type set to default) '''\n",
    "### Before, object_type was array for easy use in this notebook, but that is not correct for the .fits file\n",
    "hdulist = sim.observe(nreads=frames_per_int, nframes=num_int, bin_frames=1, start_time=start_time)\n",
    "\n",
    "\n",
    "''' Save our simulated observation in a fits file '''\n",
    "targ = target.replace(\" \", \"\")\n",
    "ffis_outfile = \"3.10_ffis_\"+str(targ)+\".fits\"   \n",
    "hdulist.writeto(ffis_outfile, overwrite=True)"
   ]
  },
  {
   "cell_type": "code",
   "execution_count": null,
   "id": "ab63bade",
   "metadata": {
    "scrolled": true
   },
   "outputs": [],
   "source": [
    "''' Show what is in our fits file: \n",
    "\n",
    "FITS file extensions: \n",
    "    (1) PRIMARY with some information about the simulated observation \n",
    "    (2) SCIENCE with information about the data\n",
    "    (3) ROIs with information about each ROI \n",
    "'''\n",
    "### extension 3 is for ROIs. For this observation, we are taking a full frame, so we will not have ROIs. \n",
    "\n",
    "hdul_ffis = fits.open(ffis_outfile)\n",
    "print(hdul_ffis.info())\n",
    "\n",
    "#print('.')\n",
    "#print('.')\n",
    "#print('.')\n",
    "#print('-- PRIMARY Headers --')\n",
    "#print(hdul_ffis[0].header)\n",
    "\n",
    "#print('.')\n",
    "#print('.')\n",
    "#print('.')\n",
    "#print('-- SCIENCE Headers --')\n",
    "#print(hdul_ffis[1].header)\n",
    "\n",
    "#print('.')\n",
    "#print('.')\n",
    "#print('.')\n",
    "#print('-- ROI Headers --')\n",
    "#print(hdul_ffis[2].header)"
   ]
  },
  {
   "cell_type": "markdown",
   "id": "e5c49476",
   "metadata": {},
   "source": [
    "# Data Products"
   ]
  },
  {
   "cell_type": "markdown",
   "id": "24485692",
   "metadata": {},
   "source": [
    "### B2:  Generate a table that provides the mapping between the sky and detector positions to quantify field distortions\n",
    "\n",
    "### B3:  Generate a table that provides the mapping between the sky and detector positions to quantify boresight alignment"
   ]
  },
  {
   "cell_type": "markdown",
   "id": "acdd978d",
   "metadata": {},
   "source": [
    "Right now, we aren't including much here. We can develop this further if it would be useful. "
   ]
  },
  {
   "cell_type": "code",
   "execution_count": null,
   "id": "d44debaa",
   "metadata": {},
   "outputs": [],
   "source": [
    "''' Plot the FFIs from the fits file to compare to expected target locations '''\n",
    "\n",
    "frame = 0 ### specify which integration to plot - can plot different integrations to see possible jitter\n",
    "image = hdul_ffis[1].data[frame]\n",
    "\n",
    "flipped = np.flipud(image) ### flipping the array to match the corrent pixel numbers on the detector\n",
    "#plt.imshow(flipped, cmap='binary', interpolation='nearest', extent=[0, p.VISDA.shape[0], 0, p.VISDA.shape[1]])\n",
    "\n",
    "#plt.xlabel('x pixel')\n",
    "#plt.ylabel('y pixel')\n",
    "#plt.title('Integration '+str(frame))"
   ]
  },
  {
   "cell_type": "markdown",
   "id": "4925eef4",
   "metadata": {},
   "source": [
    "# Generate SOC File"
   ]
  },
  {
   "cell_type": "code",
   "execution_count": null,
   "id": "824e8504",
   "metadata": {},
   "outputs": [],
   "source": [
    "'''Here we define the information required for scheduling the observation.'''\n",
    "### Some of this may change\n",
    "\n",
    "variables = {\n",
    "    'visit_id': '0310', ### setting based on task number, for now. Could change.\n",
    "    'obs_id': '000', ### this adjusts for tasks with multiple observations\n",
    "    'target': target, \n",
    "    'priority': 1, \n",
    "    'start_time': start_time, \n",
    "    'stop_time': end_time, \n",
    "    'RA': c.ra,\n",
    "    'DEC': c.dec, \n",
    "    'NIR_AvgGroups': '', ### no NIR. \n",
    "    'NIR_ROI_StartX': '', \n",
    "    'NIR_ROI_StartY': '', \n",
    "    'NIR_ROI_SizeX': '', \n",
    "    'NIR_ROI_SizeY': '',\n",
    "    'NIR_SC_Resets1': '',\n",
    "    'NIR_SC_Resets2': '', \n",
    "    'NIR_SC_DropFrames1': '',\n",
    "    'NIR_SC_DropFrames2': '',\n",
    "    'NIR_SC_DropFrames3': '', \n",
    "    'NIR_SC_ReadFrames': '',\n",
    "    'NIR_targetID': '', \n",
    "    'NIR_SC_Groups': '',\n",
    "    'NIR_SC_Integrations': '', \n",
    "    'VIS_StarRoiDetMethod': 0,  ### 0: monitor stars at positions defined in [PredefinedStarRoiRa, PredefinedStarRoiDec]. 1: Run star detection algorithm on first image and obtain star ROIs from results.\n",
    "    'VIS_FramesPerCoadd': frames_per_int, \n",
    "    'VIS_NumTotalFramesRequested': num_int, \n",
    "    'VIS_TargetRA': c.ra, \n",
    "    'VIS_TargetDEC': c.dec, \n",
    "    'VIS_IncludeFieldSolnsInResp': 1, ### Determines whether the Ra/Dec/Rot values calculated for each frame in the visible science collect will be included in the response message [1] or not [0].\n",
    "    'VIS_StarRoiDimension': [VIS_xpix, VIS_ypix], \n",
    "    'VIS_MaxNumStarRois': '', ### max number of star ROis that will be used for coadding signal from target stars if StarRoiDetMethod == 1.\n",
    "    'VIS_numPredefinedStarRois': 1, ### If StarRoiDetMethod==0, this is the number of [RA, DEC] coordinates contained in the PredefinedStarRoiRA and PredefinedStarRoiDEC vectors.\n",
    "    'VIS_PredefinedStarRoiRa': c.ra, \n",
    "    'VIS_PredefinedStarRoiDec': c.dec, \n",
    "    'VIS_targetID': target, \n",
    "    'VIS_NumExposuresMax': num_int, \n",
    "    'VIS_ExposureTime_us': frame_time_VIS * 1000000  \n",
    "}"
   ]
  },
  {
   "cell_type": "code",
   "execution_count": null,
   "id": "3d5f2d59",
   "metadata": {},
   "outputs": [],
   "source": [
    "'''Generate the SOC .xml file'''\n",
    "### This may also change format\n",
    "\n",
    "output_soc_file = '3.10_'+variables['visit_id']+'_'+variables['obs_id']+'_SOC.xml' \n",
    "generate_task_plan(variables, output_soc_file)"
   ]
  },
  {
   "cell_type": "code",
   "execution_count": null,
   "id": "fd11c4d7",
   "metadata": {},
   "outputs": [],
   "source": []
  }
 ],
 "metadata": {
  "kernelspec": {
   "display_name": "Python 3 (ipykernel)",
   "language": "python",
   "name": "python3"
  },
  "language_info": {
   "codemirror_mode": {
    "name": "ipython",
    "version": 3
   },
   "file_extension": ".py",
   "mimetype": "text/x-python",
   "name": "python",
   "nbconvert_exporter": "python",
   "pygments_lexer": "ipython3",
   "version": "3.11.5"
  }
 },
 "nbformat": 4,
 "nbformat_minor": 5
}
